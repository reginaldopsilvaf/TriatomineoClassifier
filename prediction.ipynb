{
 "cells": [
  {
   "cell_type": "markdown",
   "id": "d51e9307-515e-44a0-a85b-c68ded53a248",
   "metadata": {
    "jp-MarkdownHeadingCollapsed": true
   },
   "source": [
    "## Prediction function"
   ]
  },
  {
   "cell_type": "code",
   "execution_count": 23,
   "id": "fb775e3d-a8c8-4657-8906-e368bb2385ce",
   "metadata": {},
   "outputs": [],
   "source": [
    "def prediction_func(modelo_directory, image_directory):\n",
    "    import tensorflow.keras.models as model_loader\n",
    "    import tensorflow.keras.utils as image_loader\n",
    "    import tensorflow.nn as activation_function\n",
    "    import numpy as np\n",
    "    from PIL import Image\n",
    "    from rembg import remove\n",
    "    import tempfile\n",
    "\n",
    "    model = model_loader.load_model(modelo_directory)\n",
    "\n",
    "    target_size = (224, 224)\n",
    "    img_input = Image.open(image_directory)\n",
    "    img_output = remove(img_input)\n",
    "    with tempfile.TemporaryDirectory() as directory:\n",
    "        img_directory = directory + '/' + image_directory.split('/')[-1].split('.')[-2] + '.png'\n",
    "        img_output.save(img_directory)\n",
    "        \n",
    "        image = image_loader.load_img(img_directory, target_size=target_size)\n",
    "        image_arr = np.array([image])\n",
    "        \n",
    "        output = np.array(activation_function.softmax(model.predict(image_arr)))[0] * 100\n",
    "    \n",
    "        nivel_certeza = ''\n",
    "        \n",
    "        if output[1] < 55.0:\n",
    "            nivel_certeza = 'BAIXA'\n",
    "        elif (output[1] >= 55.0 and output[1] < 70.0):\n",
    "            nivel_certeza = 'MÉDIA'\n",
    "        elif (output[1] >= 70.0 and output[1] < 85.0):\n",
    "            nivel_certeza = 'MODERADA'\n",
    "        elif (output[1] >= 85.0 and output[1] < 95.0):\n",
    "            nivel_certeza = 'ALTA'\n",
    "        elif output[1] >= 95.0:\n",
    "            nivel_certeza = 'ALTÍSSIMA'\n",
    "    \n",
    "        print(f'É um barbeiro com uma certeza de aprox. {round(output[1], 1)}%' if output[1] > output[0] else \n",
    "              f'Não é um barbeiro com uma certeza de aprox. {round(output[0], 1)}%\\n',\n",
    "             '\\n')\n",
    "        print(f'Sua foto demonstra uma {nivel_certeza} chance de ser um barbeiro.\\n\\n', \n",
    "          'A identificação será confirmada por um especialista e em breve voce receberá uma mensagem de confirmação.\\n\\n',\n",
    "          'Siga as recomendações abaixo:\\n\\n',\n",
    "          '1 - Proteja suas mãos usando um saco ou sacola plástica, assim você irá evitar o contato direto com o inseto;\\n',\n",
    "          '2 - Nunca tente matar ou esmagar o inseto, essa ação pode levar ao aumento do risco.\\n',\n",
    "          '3 - Recolha cuidadosamente o isento e coloque em um recipiente seco e tampado. Caso o inseto esteja vivo, realizar pequenos furos na tampa para possibilitar a ventilação.\\n\\n',\n",
    "          'Caso o inseto ainda esteja no local deve ser levado, preferencialmente vivo, dentro de um frasco plástico lacrado para o PIT (Posto de identificação de Triatomíneos) mais próximo de sua residência\\n', \n",
    "          '(veja a localização dos PITs em:  https://chagas.fiocruz.br/entregue-pessoalmente).\\n\\n',  \n",
    "          'Caso não encontre um PIT próximo, oriento a entrar em contato com o órgão de saúde do seu município informando sobre o encontro do inseto, para que sejam tomadas as providências cabíveis. O inseto não deve ser manuseado com as mãos desprotegidas.')"
   ]
  },
  {
   "cell_type": "code",
   "execution_count": null,
   "id": "236d2311-e003-4af3-b55d-bdd9bf13f86c",
   "metadata": {},
   "outputs": [],
   "source": [
    "prediction_func(modelo_directory='/home/reginaldo/Documents/ime_5.1/fiocruz/model_last_training.keras',\n",
    "               image_directory='/home/reginaldo/Documents/ime_5.1/fiocruz/fiocruz_reginaldo/teste_valid/triatomineo/4f08c156f12eb8c54d2062a4e2ce687d.jpg')"
   ]
  }
 ],
 "metadata": {
  "kernelspec": {
   "display_name": "Python 3 (ipykernel)",
   "language": "python",
   "name": "python3"
  },
  "language_info": {
   "codemirror_mode": {
    "name": "ipython",
    "version": 3
   },
   "file_extension": ".py",
   "mimetype": "text/x-python",
   "name": "python",
   "nbconvert_exporter": "python",
   "pygments_lexer": "ipython3",
   "version": "3.11.5"
  }
 },
 "nbformat": 4,
 "nbformat_minor": 5
}
